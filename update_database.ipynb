{
 "cells": [
  {
   "cell_type": "code",
   "execution_count": 2,
   "metadata": {
    "collapsed": true
   },
   "outputs": [],
   "source": [
    "# Imports\n",
    "import pandas as pd\n",
    "from anomaly_tools import HDBAnomalyDetector\n",
    "from database_tools import PandasDBReader\n",
    "from fh_config import regression_vars, response_var"
   ]
  },
  {
   "cell_type": "code",
   "execution_count": 7,
   "metadata": {},
   "outputs": [],
   "source": [
    "# We need to create a PandasDBReader to interface with anomaly detectors.\n",
    "states = ['FL']\n",
    "specialty = ['Internal Medicine']\n",
    "pdb_reader = PandasDBReader(\"./config.yaml\", states, specialty)"
   ]
  },
  {
   "cell_type": "code",
   "execution_count": 51,
   "metadata": {
    "collapsed": true
   },
   "outputs": [],
   "source": [
    "# Next, we compute the outlier counts from HDBSCAN.\n",
    "hdb = HDBAnomalyDetector(regression_vars, response_var, pdb_reader.d_f, use_response_var=True)\n",
    "min_cluster_size = 10  # Going with 15 for now, it's not too hard to update this later.\n",
    "hdb.get_outlier_scores(min_size=min_cluster_size)"
   ]
  },
  {
   "cell_type": "code",
   "execution_count": 52,
   "metadata": {
    "collapsed": true
   },
   "outputs": [],
   "source": [
    "# We need a DataFrame that contains the actual outlier counts.\n",
    "counted_df = hdb.get_most_frequent()"
   ]
  },
  {
   "cell_type": "code",
   "execution_count": 58,
   "metadata": {
    "scrolled": true
   },
   "outputs": [
    {
     "name": "stdout",
     "output_type": "stream",
     "text": [
      "['QAMAR' 'SEDILLO' 'PAL' 'LEW' 'REDDY' 'CHALASANI' 'LEE' 'KHATIB'\n",
      " 'LIEBERMAN' 'RUGGIERI' 'RANDALL' 'VANROY' 'ALI' 'VAN DEN BERG' 'MANUBENS'\n",
      " 'BREDLAU' 'STEIN' 'ATTANTI' 'FERNS' 'GUMMADI']\n"
     ]
    }
   ],
   "source": [
    "print(counted_df.head(20)['last_name'].values)"
   ]
  },
  {
   "cell_type": "code",
   "execution_count": 8,
   "metadata": {
    "collapsed": true
   },
   "outputs": [],
   "source": [
    "hdb = HDBAnomalyDetector(regression_vars, response_var, pdb_reader.d_f, use_response_var=True)"
   ]
  },
  {
   "cell_type": "code",
   "execution_count": 9,
   "metadata": {},
   "outputs": [
    {
     "name": "stderr",
     "output_type": "stream",
     "text": [
      "/home/dan/.local/lib/python3.5/site-packages/hdbscan/hdbscan_.py:930: RuntimeWarning: invalid value encountered in double_scalars\n",
      "  self._outlier_scores = outlier_scores(self._condensed_tree)\n",
      "/home/dan/.local/lib/python3.5/site-packages/numpy/lib/function_base.py:4269: RuntimeWarning: Invalid value encountered in percentile\n",
      "  interpolation=interpolation)\n"
     ]
    },
    {
     "name": "stdout",
     "output_type": "stream",
     "text": [
      "{80: ['RODRIGUEZ', 'COWEN', 'SZYDLOWSKI', 'WASSERMAN', 'HARRIS', 'LECLERCQ', 'MEHLMAN', 'IYER', 'WENK', 'PANCHAL', 'GRASMAN', 'BIRNBAUM', 'LICHTINGER', 'DICKERT', 'COHEN', 'TAWFIK', 'MASI', 'SADHWANI', 'JOSEPH', 'ZUKERBERG'], 20: ['RODRIGUEZ', 'WASSERMAN', 'COWEN', 'HARRIS', 'IYER', 'LECLERCQ', 'WENK', 'MUBARAK', 'GOMER', 'GUPTA', 'COGBURN', 'MALONE', 'KAPADIA', 'SOFI', 'REBELLO', 'BARQUET', 'TAWFIK', 'SZYDLOWSKI', 'MASTERS', 'KHANNA'], 150: ['RODRIGUEZ', 'COWEN', 'WASSERMAN', 'SZYDLOWSKI', 'GOMER', 'IYER', 'HARRIS', 'LECLERCQ', 'GRASMAN', 'GUPTA', 'WENK', 'DICKERT', 'MALONE', 'KHANNA', 'MEHLMAN', 'COGBURN', 'MUBARAK', 'KAPADIA', 'BIRNBAUM', 'LICHTINGER'], 40: ['RODRIGUEZ', 'COWEN', 'WASSERMAN', 'HARRIS', 'IYER', 'LECLERCQ', 'GUPTA', 'MUBARAK', 'KHANNA', 'GOMER', 'MEHLMAN', 'TAWFIK', 'MALONE', 'WENK', 'COGBURN', 'ALBERTI FLOR', 'BARQUET', 'SZYDLOWSKI', 'REBELLO', 'KAPADIA'], 100: ['RODRIGUEZ', 'COWEN', 'SZYDLOWSKI', 'WASSERMAN', 'MEHLMAN', 'IYER', 'HARRIS', 'LECLERCQ', 'WENK', 'PANCHAL', 'DICKERT', 'GRASMAN', 'LICHTINGER', 'BIRNBAUM', 'COHEN', 'SOFI', 'SADHWANI', 'ZUKERBERG', 'MALONE', 'MASI'], 10: ['SANCASSANI', 'SALAZAR', 'SACHS', 'AGUILAR', 'GAFFNEY', 'BAEZ', 'CAVANAUGH', 'FOWLER', 'EHRENMAN', 'KISS', 'MODEL', 'FAN', 'TYTLER', 'WONGCHANTARA', 'WADHERA', 'RAHMATULLAH', 'GONZALEZ', 'LETOBARONE', 'NWANYANWU', 'PEREZ'], 15: ['RODRIGUEZ', 'WASSERMAN', 'COWEN', 'IYER', 'LECLERCQ', 'GUPTA', 'WENK', 'BARQUET', 'HARRIS', 'TAWFIK', 'MUBARAK', 'GOMER', 'ALBERTI FLOR', 'ANAND', 'KHANNA', 'MALONE', 'MIRZA', 'KAPADIA', 'HARDOON', 'LOPEZ']}\n"
     ]
    }
   ],
   "source": [
    "top_20_dict = {}\n",
    "for size in [10, 15, 20, 40, 80, 100, 150]:\n",
    "    hdb.get_outlier_scores(min_size=size)\n",
    "    counted_df = hdb.get_most_frequent()\n",
    "    top_20_dict[size] = list(counted_df.head(20)['last_name'].values)\n",
    "print(top_20_dict)"
   ]
  },
  {
   "cell_type": "code",
   "execution_count": 7,
   "metadata": {
    "collapsed": true
   },
   "outputs": [],
   "source": [
    "# From this DataFrame we create a sliced DataFrame containing the columns for the new table.\n",
    "npi_column = list(counted_df.index)\n",
    "state_column = [geo_info['state'] for geo_info in counted_df['address'].values]\n",
    "lastname_column = counted_df['last_name']\n",
    "outlier_count_column = counted_df['outlier_count']\n",
    "provider_column = [specialty[0] for i in range(len(npi_column))]\n",
    "for_new_table_data = {'state': state_column, 'lastname': lastname_column, 'provider_type': provider_column, 'outlier_count': outlier_count_column}\n",
    "for_new_table = pd.DataFrame(data=for_new_table_data, index=npi_column)\n",
    "for_new_table.to_csv(\"/home/dan/tx_im.csv\")"
   ]
  },
  {
   "cell_type": "code",
   "execution_count": 23,
   "metadata": {
    "collapsed": true
   },
   "outputs": [],
   "source": [
    "# Next step: Testing that everything worked\n",
    "import psycopg2\n",
    "import yaml"
   ]
  },
  {
   "cell_type": "code",
   "execution_count": 25,
   "metadata": {},
   "outputs": [
    {
     "name": "stdout",
     "output_type": "stream",
     "text": [
      "          npi state   lastname provider_type  outlier_count\n",
      "0  1033145487    FL      QAMAR    Cardiology             48\n",
      "1  1982680179    FL    SEDILLO    Cardiology             34\n",
      "2  1376588582    FL        PAL    Cardiology             29\n",
      "3  1861485757    FL        LEW    Cardiology             21\n",
      "4  1760477269    FL  CHALASANI    Cardiology             21\n"
     ]
    }
   ],
   "source": [
    "with open(\"./config.yaml\", 'r') as f:\n",
    "    db_config = yaml.load(f)\n",
    "con = psycopg2.connect(database=db_config['database_name'],\n",
    "                       user=db_config['user_name'],\n",
    "                       password=db_config['password'])\n",
    "new_query = \"SELECT * from provider_anomaly_counts_hdb\"\n",
    "test_df = pd.read_sql_query(new_query, con)\n",
    "print(test_df.head())"
   ]
  },
  {
   "cell_type": "code",
   "execution_count": null,
   "metadata": {
    "collapsed": true
   },
   "outputs": [],
   "source": []
  }
 ],
 "metadata": {
  "kernelspec": {
   "display_name": "Python 3",
   "language": "python",
   "name": "python3"
  },
  "language_info": {
   "codemirror_mode": {
    "name": "ipython",
    "version": 3
   },
   "file_extension": ".py",
   "mimetype": "text/x-python",
   "name": "python",
   "nbconvert_exporter": "python",
   "pygments_lexer": "ipython3",
   "version": "3.5.2"
  }
 },
 "nbformat": 4,
 "nbformat_minor": 2
}
