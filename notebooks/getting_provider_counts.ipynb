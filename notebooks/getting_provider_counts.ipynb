{
 "cells": [
  {
   "cell_type": "markdown",
   "metadata": {},
   "source": [
    "# Getting outlier counts for all providers in the database. #\n",
    "This notebook will iterate through all of the providers in the database and append their outlier counts to a CSV file, which can then be copied into the PostgreSQL cms_complete database. We could do that directly through pandas, but empirically it seems to be a lot slower (for whatever reason), so I'm just writing the CSV and doing the copying from inside PSQL later.  Here are some imports and utility functions:"
   ]
  },
  {
   "cell_type": "code",
   "execution_count": 3,
   "metadata": {},
   "outputs": [],
   "source": [
    "# Imports\n",
    "import pandas as pd\n",
    "\n",
    "# Need the source files for FraudHacker.\n",
    "import sys\n",
    "sys.path.append('/home/dan/PycharmProjects/fraudhacker/src')\n",
    "\n",
    "from anomaly_tools import HDBAnomalyDetector\n",
    "from database_tools import PandasDBReader\n",
    "from fh_config import regression_vars, response_var"
   ]
  },
  {
   "cell_type": "code",
   "execution_count": 3,
   "metadata": {
    "collapsed": true
   },
   "outputs": [],
   "source": [
    "# Some routines to make it a bit simpler.\n",
    "def get_df_with_counts(states, specialty):\n",
    "    pdb_reader = PandasDBReader(\"./config.yaml\", states, specialty)\n",
    "    hdb = HDBAnomalyDetector(regression_vars, response_var, pdb_reader.d_f, use_response_var=True)\n",
    "    hdb.get_outlier_scores(min_size=15)\n",
    "    return hdb.get_most_frequent()\n",
    "\n",
    "def build_new_table_data(states, specialty):\n",
    "    counted_df = get_df_with_counts(states, specialty)\n",
    "    new_table_data = {\n",
    "        'state': [ginfo['state'] for ginfo in counted_df['address'].values],\n",
    "        'lastname': counted_df['last_name'],\n",
    "        'provider_type': [specialty[0] for i in range(len(list(counted_df.index)))],\n",
    "        'outlier_count': counted_df['outlier_count'],\n",
    "        'outlier_rate': counted_df['outlier_count_rate'],\n",
    "        'cost': counted_df['cost_to_medicare'],\n",
    "    }\n",
    "    return pd.DataFrame(data=new_table_data, index=list(counted_df.index))"
   ]
  },
  {
   "cell_type": "code",
   "execution_count": 3,
   "metadata": {
    "collapsed": true
   },
   "outputs": [],
   "source": [
    "# Temporarily testing some of the new functionality.\n",
    "test_state = \"TX\"\n",
    "test_spec = \"Internal Medicine\"\n",
    "table_data = build_new_table_data([test_state], [test_spec])\n"
   ]
  },
  {
   "cell_type": "code",
   "execution_count": 5,
   "metadata": {},
   "outputs": [
    {
     "name": "stdout",
     "output_type": "stream",
     "text": [
      "             cost  counts lastname  outlier_count  outlier_rate  \\\n",
      "1124227533  996.5     658   LA HOZ              1       0.00152   \n",
      "\n",
      "                provider_type state  \n",
      "1124227533  Internal Medicine    TX  \n",
      "              cost  counts   lastname  outlier_count  outlier_rate  \\\n",
      "1225062383  1013.1      11  MASTERSON              1      0.090909   \n",
      "\n",
      "                provider_type state  \n",
      "1225062383  Internal Medicine    TX  \n"
     ]
    }
   ],
   "source": [
    "print(table_data.loc[table_data[\"lastname\"] == \"LA HOZ\"])\n",
    "print(table_data.loc[table_data[\"lastname\"] == \"MASTERSON\"])"
   ]
  },
  {
   "cell_type": "markdown",
   "metadata": {},
   "source": [
    "Now we need to iterate through a list of specialties and states and append the results for the counting to a running csv master file.  We'll start with Cardiology."
   ]
  },
  {
   "cell_type": "code",
   "execution_count": null,
   "metadata": {},
   "outputs": [],
   "source": [
    "csv_output = \"/home/dan/insight/cms_claims/master_outlier_counts_more_data_fixed.csv\"\n",
    "states = [\"AL\", \"AK\", \"AZ\", \"AR\", \"CA\", \"CO\", \"CT\", \"DC\", \"DE\", \"FL\", \"GA\", \n",
    "          \"HI\", \"ID\", \"IL\", \"IN\", \"IA\", \"KS\", \"KY\", \"LA\", \"ME\", \"MD\", \n",
    "          \"MA\", \"MI\", \"MN\", \"MS\", \"MO\", \"MT\", \"NE\", \"NV\", \"NH\", \"NJ\", \n",
    "          \"NM\", \"NY\", \"NC\", \"ND\", \"OH\", \"OK\", \"OR\", \"PA\", \"RI\", \"SC\", \n",
    "          \"SD\", \"TN\", \"TX\", \"UT\", \"VT\", \"VA\", \"WA\", \"WV\", \"WI\", \"WY\"]\n",
    "specialties = ['Internal Medicine', 'Family Practice', 'Psychiatry', \n",
    "               'Neurology', 'Endocrinology', 'Physical Medicine and Rehabilitation']\n",
    "for state in states:\n",
    "    for specialty in specialties:\n",
    "        table_data = build_new_table_data([state], [specialty])\n",
    "        with open(csv_output, 'a') as f:\n",
    "            table_data.to_csv(f)\n",
    "        print(\"Finished \" + specialty + \" in \" + state + \".\")"
   ]
  },
  {
   "cell_type": "code",
   "execution_count": null,
   "metadata": {
    "collapsed": true
   },
   "outputs": [],
   "source": []
  }
 ],
 "metadata": {
  "kernelspec": {
   "display_name": "Python 3",
   "language": "python",
   "name": "python3"
  },
  "language_info": {
   "codemirror_mode": {
    "name": "ipython",
    "version": 3
   },
   "file_extension": ".py",
   "mimetype": "text/x-python",
   "name": "python",
   "nbconvert_exporter": "python",
   "pygments_lexer": "ipython3",
   "version": "3.5.2"
  }
 },
 "nbformat": 4,
 "nbformat_minor": 2
}
