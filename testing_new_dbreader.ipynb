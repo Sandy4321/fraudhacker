{
 "cells": [
  {
   "cell_type": "code",
   "execution_count": 1,
   "metadata": {
    "collapsed": true
   },
   "outputs": [],
   "source": [
    "from database_tools import OutlierCountDBReader"
   ]
  },
  {
   "cell_type": "code",
   "execution_count": 2,
   "metadata": {},
   "outputs": [],
   "source": [
    "odb = OutlierCountDBReader(\"./config.yaml\", ['FL'], ['Cardiology'])"
   ]
  },
  {
   "cell_type": "code",
   "execution_count": 4,
   "metadata": {},
   "outputs": [
    {
     "name": "stdout",
     "output_type": "stream",
     "text": [
      "           npi state    lastname provider_type  outlier_count\n",
      "0   1033145487    FL       QAMAR    Cardiology             48\n",
      "1   1982680179    FL     SEDILLO    Cardiology             34\n",
      "2   1376588582    FL         PAL    Cardiology             29\n",
      "3   1861485757    FL         LEW    Cardiology             21\n",
      "4   1760477269    FL   CHALASANI    Cardiology             21\n",
      "5   1740236330    FL      VANROY    Cardiology             17\n",
      "6   1588657381    FL       REDDY    Cardiology             16\n",
      "7   1063447977    FL         LEE    Cardiology             16\n",
      "8   1770576100    FL      BHATTA    Cardiology             15\n",
      "9   1588653257    FL      KHATIB    Cardiology             15\n",
      "10  1437184322    FL   LIEBERMAN    Cardiology             14\n",
      "11  1134221542    FL     RANDALL    Cardiology             14\n",
      "12  1902889413    FL     ATTANTI    Cardiology             13\n",
      "13  1891725735    FL    PRESSMAN    Cardiology             13\n",
      "14  1891702965    FL    RUGGIERI    Cardiology             13\n",
      "15  1821182247    FL     BOSWELL    Cardiology             13\n",
      "16  1457397580    FL  RUBENSTEIN    Cardiology             12\n",
      "17  1417921701    FL     JAMIDAR    Cardiology             12\n",
      "18  1285632265    FL     WILLARD    Cardiology             11\n",
      "19  1790779320    FL       STEIN    Cardiology             11\n"
     ]
    }
   ],
   "source": [
    "print(odb.d_f.head(20))"
   ]
  },
  {
   "cell_type": "code",
   "execution_count": null,
   "metadata": {
    "collapsed": true
   },
   "outputs": [],
   "source": []
  }
 ],
 "metadata": {
  "kernelspec": {
   "display_name": "Python 3",
   "language": "python",
   "name": "python3"
  },
  "language_info": {
   "codemirror_mode": {
    "name": "ipython",
    "version": 3
   },
   "file_extension": ".py",
   "mimetype": "text/x-python",
   "name": "python",
   "nbconvert_exporter": "python",
   "pygments_lexer": "ipython3",
   "version": "3.5.2"
  }
 },
 "nbformat": 4,
 "nbformat_minor": 2
}
