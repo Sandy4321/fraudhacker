{
 "cells": [
  {
   "cell_type": "code",
   "execution_count": 3,
   "metadata": {
    "collapsed": true
   },
   "outputs": [],
   "source": [
    "from database_tools import OutlierCountDBReader\n",
    "from fh_config import fraudulent_npis"
   ]
  },
  {
   "cell_type": "code",
   "execution_count": 6,
   "metadata": {},
   "outputs": [
    {
     "name": "stdout",
     "output_type": "stream",
     "text": [
      "provider_anomaly_counts_hdb_total\n",
      "RUNNING QUERY SELECT npi, state, lastname, provider_type, outlier_count, cost, outlier_rate from provider_anomaly_counts_hdb_total WHERE provider_type IN ('Internal Medicine') AND state IN ('TX') \n",
      "             npi state   lastname      provider_type  outlier_count     cost  \\\n",
      "1841  1053699132    TX      SHETH  Internal Medicine              1  1704.56   \n",
      "1885  1245509231    TX      MEEKS  Internal Medicine              1   359.70   \n",
      "1976  1124227533    TX     LA HOZ  Internal Medicine              1   996.50   \n",
      "1892  1225062383    TX  MASTERSON  Internal Medicine              1  1013.10   \n",
      "2049  1962578831    TX      BERRY  Internal Medicine              1   619.90   \n",
      "\n",
      "      outlier_rate  \n",
      "1841       9.09091  \n",
      "1885       9.09091  \n",
      "1976       9.09091  \n",
      "1892       9.09091  \n",
      "2049       9.09091  \n"
     ]
    }
   ],
   "source": [
    "odb = OutlierCountDBReader(\"./config.yaml\", ['TX'], ['Internal Medicine'])\n",
    "print(odb.d_f.sort_values(by=\"outlier_rate\", ascending=False).head())"
   ]
  },
  {
   "cell_type": "code",
   "execution_count": 47,
   "metadata": {
    "collapsed": true
   },
   "outputs": [],
   "source": [
    "fraudulent_dict = {}\n",
    "states = [\"AL\", \"AK\", \"AZ\", \"AR\", \"CA\", \"CO\", \"CT\", \"DC\", \"DE\", \"FL\", \"GA\", \n",
    "          \"HI\", \"ID\", \"IL\", \"IN\", \"IA\", \"KS\", \"KY\", \"LA\", \"ME\", \"MD\", \n",
    "          \"MA\", \"MI\", \"MN\", \"MS\", \"MO\", \"MT\", \"NE\", \"NV\", \"NH\", \"NJ\", \n",
    "          \"NM\", \"NY\", \"NC\", \"ND\", \"OH\", \"OK\", \"OR\", \"PA\", \"RI\", \"SC\", \n",
    "          \"SD\", \"TN\", \"TX\", \"UT\", \"VT\", \"VA\", \"WA\", \"WV\", \"WI\", \"WY\"]\n",
    "specialties = ['Internal Medicine', 'Family Practice', 'Psychiatry', \n",
    "               'Neurology', 'Endocrinology', 'Physical Medicine and Rehabilitation']\n",
    "for state in states:\n",
    "    for specialty in specialties:\n",
    "        odb = OutlierCountDBReader(\"./config.yaml\", [state], [specialty])\n",
    "        for npi in fraudulent_npis:\n",
    "            values = list(odb.d_f.loc[odb.d_f[\"npi\"] == npi][\"outlier_count\"].values)\n",
    "            if len(values) > 0 and npi in odb.d_f[\"npi\"].values:\n",
    "                fraudulent_dict[npi] = values[0]\n",
    "            elif npi in odb.d_f[\"npi\"].values:\n",
    "                fraudulent_dict[npi] = 0"
   ]
  },
  {
   "cell_type": "code",
   "execution_count": 49,
   "metadata": {},
   "outputs": [
    {
     "name": "stdout",
     "output_type": "stream",
     "text": [
      "{'1881660959': 0, '1023119898': 2, '1952477622': 3, '1841246105': 0, '1639169972': 0, '1881746501': 4, '1225022627': 0, '1316935406': 0, '1720255144': 0, '1396906160': 2, '1184786196': 0, '1720003882': 0, '1407877046': 23, '1437276128': 0, '1588675896': 1, '1225082886': 0, '1336220425': 0, '1053330225': 6, '1053499673': 0, '1427034271': 20, '1841218799': 0, '1427029479': 0, '1013059740': 1, '1013998640': 0, '1174545271': 0, '1679643191': 6, '1538359104': 5, '1740396381': 0, '1801909338': 0, '1518028281': 0, '1942373923': 5, '1801850292': 1, '1184601577': 0, '1659399897': 0}\n"
     ]
    }
   ],
   "source": [
    "print(fraudulent_dict)"
   ]
  },
  {
   "cell_type": "code",
   "execution_count": 51,
   "metadata": {},
   "outputs": [
    {
     "name": "stdout",
     "output_type": "stream",
     "text": [
      "13\n"
     ]
    }
   ],
   "source": [
    "found_frauds = [fraudulent_dict[key] for key in fraudulent_dict if fraudulent_dict[key] > 0]\n",
    "print(len(found_frauds))"
   ]
  },
  {
   "cell_type": "code",
   "execution_count": null,
   "metadata": {
    "collapsed": true
   },
   "outputs": [],
   "source": []
  }
 ],
 "metadata": {
  "kernelspec": {
   "display_name": "Python 3",
   "language": "python",
   "name": "python3"
  },
  "language_info": {
   "codemirror_mode": {
    "name": "ipython",
    "version": 3
   },
   "file_extension": ".py",
   "mimetype": "text/x-python",
   "name": "python",
   "nbconvert_exporter": "python",
   "pygments_lexer": "ipython3",
   "version": "3.5.2"
  }
 },
 "nbformat": 4,
 "nbformat_minor": 2
}
